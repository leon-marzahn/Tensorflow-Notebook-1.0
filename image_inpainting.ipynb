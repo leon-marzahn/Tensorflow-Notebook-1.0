{
 "cells": [
  {
   "cell_type": "markdown",
   "source": [
    "## Image inpainting\n",
    "Based on [this paper](http://iizuka.cs.tsukuba.ac.jp/projects/completion/data/completion_sig2017.pdf)"
   ],
   "metadata": {
    "collapsed": false,
    "pycharm": {
     "name": "#%% md\n"
    }
   }
  },
  {
   "cell_type": "markdown",
   "source": [
    "### Import dependencies"
   ],
   "metadata": {
    "collapsed": false,
    "pycharm": {
     "name": "#%% md\n"
    }
   }
  },
  {
   "cell_type": "code",
   "execution_count": 1,
   "id": "modern-diving",
   "metadata": {
    "pycharm": {
     "name": "#%% code\n"
    }
   },
   "outputs": [],
   "source": [
    "import tensorflow as tf\n",
    "import tensorflow.keras as keras\n",
    "import tensorflow_addons as tfa\n",
    "import matplotlib.pyplot as plt\n",
    "import numpy as np\n",
    "\n",
    "### Setup"
   ]
  },
  {
   "cell_type": "code",
   "execution_count": 132,
   "outputs": [],
   "source": [
    "checkpoint_path = 'checkpoints/image_inpainting/image_inpainting.ckpt'\n",
    "\n",
    "tqdm_callback = tfa.callbacks.TQDMProgressBar(\n",
    "  show_epoch_progress=False\n",
    ")\n",
    "\n",
    "def conv2d_relu(filters, kernel, **kwargs):\n",
    "  return [\n",
    "    keras.layers.Conv2D(filters, kernel, **kwargs),\n",
    "    keras.layers.ReLU()\n",
    "  ]\n",
    "\n",
    "def deconv2d_relu(filters, kernel, **kwargs):\n",
    "  return [\n",
    "    keras.layers.Conv2DTranspose(filters, kernel, **kwargs),\n",
    "    keras.layers.ReLU()\n",
    "  ]"
   ],
   "metadata": {
    "collapsed": false,
    "pycharm": {
     "name": "#%% code\n"
    }
   }
  },
  {
   "cell_type": "markdown",
   "source": [
    "### Generator model"
   ],
   "metadata": {
    "collapsed": false
   }
  },
  {
   "cell_type": "code",
   "execution_count": 135,
   "id": "vanilla-michigan",
   "metadata": {
    "pycharm": {
     "name": "#%% code\n"
    }
   },
   "outputs": [
    {
     "name": "stdout",
     "output_type": "stream",
     "text": [
      "Model: \"generator\"\n",
      "_________________________________________________________________\n",
      "Layer (type)                 Output Shape              Param #   \n",
      "=================================================================\n",
      "conv2d_633 (Conv2D)          (None, 1024, 1024, 64)    4864      \n",
      "_________________________________________________________________\n",
      "re_lu_64 (ReLU)              (None, 1024, 1024, 64)    0         \n",
      "_________________________________________________________________\n",
      "downscale_1 (Conv2D)         (None, 512, 512, 128)     73856     \n",
      "_________________________________________________________________\n",
      "re_lu_65 (ReLU)              (None, 512, 512, 128)     0         \n",
      "_________________________________________________________________\n",
      "conv2d_634 (Conv2D)          (None, 512, 512, 128)     147584    \n",
      "_________________________________________________________________\n",
      "re_lu_66 (ReLU)              (None, 512, 512, 128)     0         \n",
      "_________________________________________________________________\n",
      "downscale_2 (Conv2D)         (None, 256, 256, 256)     295168    \n",
      "_________________________________________________________________\n",
      "re_lu_67 (ReLU)              (None, 256, 256, 256)     0         \n",
      "_________________________________________________________________\n",
      "conv2d_635 (Conv2D)          (None, 256, 256, 256)     590080    \n",
      "_________________________________________________________________\n",
      "re_lu_68 (ReLU)              (None, 256, 256, 256)     0         \n",
      "_________________________________________________________________\n",
      "conv2d_636 (Conv2D)          (None, 256, 256, 256)     590080    \n",
      "_________________________________________________________________\n",
      "re_lu_69 (ReLU)              (None, 256, 256, 256)     0         \n",
      "_________________________________________________________________\n",
      "dilate_1 (Conv2D)            (None, 256, 256, 256)     590080    \n",
      "_________________________________________________________________\n",
      "re_lu_70 (ReLU)              (None, 256, 256, 256)     0         \n",
      "_________________________________________________________________\n",
      "dilate_2 (Conv2D)            (None, 256, 256, 256)     590080    \n",
      "_________________________________________________________________\n",
      "re_lu_71 (ReLU)              (None, 256, 256, 256)     0         \n",
      "_________________________________________________________________\n",
      "dilate_3 (Conv2D)            (None, 256, 256, 256)     590080    \n",
      "_________________________________________________________________\n",
      "re_lu_72 (ReLU)              (None, 256, 256, 256)     0         \n",
      "_________________________________________________________________\n",
      "dilate_4 (Conv2D)            (None, 256, 256, 256)     590080    \n",
      "_________________________________________________________________\n",
      "re_lu_73 (ReLU)              (None, 256, 256, 256)     0         \n",
      "_________________________________________________________________\n",
      "conv2d_637 (Conv2D)          (None, 256, 256, 256)     590080    \n",
      "_________________________________________________________________\n",
      "re_lu_74 (ReLU)              (None, 256, 256, 256)     0         \n",
      "_________________________________________________________________\n",
      "conv2d_638 (Conv2D)          (None, 256, 256, 256)     590080    \n",
      "_________________________________________________________________\n",
      "re_lu_75 (ReLU)              (None, 256, 256, 256)     0         \n",
      "_________________________________________________________________\n",
      "upscale_1 (Conv2DTranspose)  (None, 512, 512, 128)     524416    \n",
      "_________________________________________________________________\n",
      "re_lu_76 (ReLU)              (None, 512, 512, 128)     0         \n",
      "_________________________________________________________________\n",
      "conv2d_639 (Conv2D)          (None, 512, 512, 128)     147584    \n",
      "_________________________________________________________________\n",
      "re_lu_77 (ReLU)              (None, 512, 512, 128)     0         \n",
      "_________________________________________________________________\n",
      "upscale_2 (Conv2DTranspose)  (None, 1026, 1026, 64)    131136    \n",
      "_________________________________________________________________\n",
      "re_lu_78 (ReLU)              (None, 1026, 1026, 64)    0         \n",
      "_________________________________________________________________\n",
      "conv2d_640 (Conv2D)          (None, 1026, 1026, 32)    18464     \n",
      "_________________________________________________________________\n",
      "re_lu_79 (ReLU)              (None, 1026, 1026, 32)    0         \n",
      "_________________________________________________________________\n",
      "conv2d_641 (Conv2D)          (None, 1024, 1024, 3)     867       \n",
      "=================================================================\n",
      "Total params: 6,064,579\n",
      "Trainable params: 6,064,579\n",
      "Non-trainable params: 0\n",
      "_________________________________________________________________\n"
     ]
    }
   ],
   "source": [
    "generator_layers = list(plt.cbook.flatten([\n",
    "  keras.layers.Input(shape=(1024, 1024, 3)),\n",
    "  conv2d_relu(64, (5, 5), padding='same'),\n",
    "\n",
    "  conv2d_relu(128, (3, 3), strides=(2, 2), padding='same', name='downscale_1'),\n",
    "  conv2d_relu(128, (3, 3), padding='same'),\n",
    "\n",
    "  conv2d_relu(256, (3, 3), strides=(2, 2), padding='same', name='downscale_2'),\n",
    "  conv2d_relu(256, (3, 3), padding='same'),\n",
    "  conv2d_relu(256, (3, 3), padding='same'),\n",
    "  conv2d_relu(256, (3, 3), dilation_rate=2, padding='same', name='dilate_1'),\n",
    "  conv2d_relu(256, (3, 3), dilation_rate=4, padding='same', name='dilate_2'),\n",
    "  conv2d_relu(256, (3, 3), dilation_rate=8, padding='same', name='dilate_3'),\n",
    "  conv2d_relu(256, (3, 3), dilation_rate=16, padding='same', name='dilate_4'),\n",
    "  conv2d_relu(256, (3, 3), padding='same'),\n",
    "  conv2d_relu(256, (3, 3), padding='same'),\n",
    "\n",
    "  deconv2d_relu(128, (4, 4), strides=(2, 2), padding='same', name='upscale_1'),\n",
    "  conv2d_relu(128, (3, 3), padding='same'),\n",
    "\n",
    "  deconv2d_relu(64, (4, 4), strides=(2, 2), name='upscale_2'),\n",
    "  conv2d_relu(32, (3, 3), padding='same'),\n",
    "  keras.layers.Conv2D(3, (3, 3), activation=keras.activations.sigmoid)\n",
    "]))\n",
    "generator_model = keras.Sequential(layers=generator_layers, name='generator')\n",
    "generator_model.summary()"
   ]
  },
  {
   "cell_type": "markdown",
   "source": [
    "### Local discriminator model"
   ],
   "metadata": {
    "collapsed": false,
    "pycharm": {
     "name": "#%% md\n"
    }
   }
  },
  {
   "cell_type": "code",
   "execution_count": 139,
   "outputs": [
    {
     "name": "stdout",
     "output_type": "stream",
     "text": [
      "Model: \"local_discriminator\"\n",
      "_________________________________________________________________\n",
      "Layer (type)                 Output Shape              Param #   \n",
      "=================================================================\n",
      "conv2d_657 (Conv2D)          (None, 64, 64, 64)        4864      \n",
      "_________________________________________________________________\n",
      "re_lu_91 (ReLU)              (None, 64, 64, 64)        0         \n",
      "_________________________________________________________________\n",
      "conv2d_658 (Conv2D)          (None, 32, 32, 128)       204928    \n",
      "_________________________________________________________________\n",
      "re_lu_92 (ReLU)              (None, 32, 32, 128)       0         \n",
      "_________________________________________________________________\n",
      "conv2d_659 (Conv2D)          (None, 16, 16, 256)       819456    \n",
      "_________________________________________________________________\n",
      "re_lu_93 (ReLU)              (None, 16, 16, 256)       0         \n",
      "_________________________________________________________________\n",
      "conv2d_660 (Conv2D)          (None, 8, 8, 512)         3277312   \n",
      "_________________________________________________________________\n",
      "re_lu_94 (ReLU)              (None, 8, 8, 512)         0         \n",
      "_________________________________________________________________\n",
      "conv2d_661 (Conv2D)          (None, 4, 4, 512)         6554112   \n",
      "_________________________________________________________________\n",
      "re_lu_95 (ReLU)              (None, 4, 4, 512)         0         \n",
      "_________________________________________________________________\n",
      "dense_13 (Dense)             (None, 4, 4, 1024)        525312    \n",
      "=================================================================\n",
      "Total params: 11,385,984\n",
      "Trainable params: 11,385,984\n",
      "Non-trainable params: 0\n",
      "_________________________________________________________________\n"
     ]
    }
   ],
   "source": [
    "local_discriminator_layers = list(plt.cbook.flatten([\n",
    "  keras.layers.Input(shape=(128, 128, 3)),\n",
    "  conv2d_relu(64, (5, 5), strides=(2, 2), padding='same'),\n",
    "  conv2d_relu(128, (5, 5), strides=(2, 2), padding='same'),\n",
    "  conv2d_relu(256, (5, 5), strides=(2, 2), padding='same'),\n",
    "  conv2d_relu(512, (5, 5), strides=(2, 2), padding='same'),\n",
    "  conv2d_relu(512, (5, 5), strides=(2, 2), padding='same'),\n",
    "\n",
    "  keras.layers.Dense(units=1024)\n",
    "]))\n",
    "local_discriminator_model = keras.Sequential(layers=local_discriminator_layers, name='local_discriminator')\n",
    "local_discriminator_model.summary()"
   ],
   "metadata": {
    "collapsed": false,
    "pycharm": {
     "name": "#%% code\n"
    }
   }
  },
  {
   "cell_type": "markdown",
   "source": [
    "### Concatenation layer"
   ],
   "metadata": {
    "collapsed": false,
    "pycharm": {
     "name": "#%% md\n"
    }
   }
  },
  {
   "cell_type": "code",
   "execution_count": 140,
   "outputs": [],
   "source": [
    "def concatenate_discriminator_values(x, y):\n",
    "  return keras.layers.Dense(units=1, activation=keras.activations.sigmoid)(keras.layers.Concatenate([x, y]))"
   ],
   "metadata": {
    "collapsed": false,
    "pycharm": {
     "name": "#%% code\n"
    }
   }
  },
  {
   "cell_type": "markdown",
   "source": [
    "### Early testing of the generator"
   ],
   "metadata": {
    "collapsed": false,
    "pycharm": {
     "name": "#%% md\n"
    }
   }
  },
  {
   "cell_type": "code",
   "execution_count": 141,
   "outputs": [
    {
     "data": {
      "text/plain": "<matplotlib.image.AxesImage at 0x2a13639b640>"
     },
     "execution_count": 141,
     "metadata": {},
     "output_type": "execute_result"
    },
    {
     "data": {
      "text/plain": "<Figure size 432x288 with 1 Axes>",
      "image/png": "[encoded data removed]"
     },
     "metadata": {
      "needs_background": "light"
     },
     "output_type": "display_data"
    }
   ],
   "source": [
    "early_test_noise = tf.random.normal((1024, 1024, 3))\n",
    "early_test_noise_tensor = tf.reshape(early_test_noise, (1, 1024, 1024, 3))\n",
    "\n",
    "generated = generator_model(early_test_noise_tensor, training=False)\n",
    "plt.imshow(generated[0])"
   ],
   "metadata": {
    "collapsed": false,
    "pycharm": {
     "name": "#%% code\n"
    }
   }
  },
  {
   "cell_type": "markdown",
   "source": [
    "### Generator loss"
   ],
   "metadata": {
    "collapsed": false
   }
  },
  {
   "cell_type": "code",
   "execution_count": 144,
   "outputs": [],
   "source": [
    "def generator_loss(fake_output):\n",
    "  return keras.losses.BinaryCrossentropy(from_logits=True)(tf.ones_like(fake_output), fake_output)"
   ],
   "metadata": {
    "collapsed": false,
    "pycharm": {
     "name": "#%% code\n"
    }
   }
  },
  {
   "cell_type": "markdown",
   "source": [
    "### Discriminator loss"
   ],
   "metadata": {
    "collapsed": false,
    "pycharm": {
     "name": "#%% md\n"
    }
   }
  },
  {
   "cell_type": "code",
   "execution_count": 145,
   "outputs": [],
   "source": [
    "def discriminator_loss(real_output, fake_output):\n",
    "  cross_entropy = keras.losses.BinaryCrossentropy(from_logits=True)\n",
    "  real_loss = cross_entropy(tf.ones_like(real_output), real_output)\n",
    "  fake_loss = cross_entropy(tf.zeros_like(fake_output), fake_output)\n",
    "  return real_loss + fake_loss"
   ],
   "metadata": {
    "collapsed": false,
    "pycharm": {
     "name": "#%% code\n"
    }
   }
  },
  {
   "cell_type": "markdown",
   "source": [
    "### Training"
   ],
   "metadata": {
    "collapsed": false,
    "pycharm": {
     "name": "#%% md\n"
    }
   }
  },
  {
   "cell_type": "code",
   "execution_count": 146,
   "outputs": [],
   "source": [
    "epochs = 50\n",
    "generator_optimizer = tf.keras.optimizers.Adam(1e-4)\n",
    "discriminator_optimizer = tf.keras.optimizers.Adam(1e-4)\n",
    "\n",
    "@tf.function\n",
    "def train_step(images):\n",
    "  noise = tf.random.normal((16, 1024, 1024, 3))\n",
    "\n",
    "  with tf.GradientTape() as gen_tape, tf.GradientTape() as disc_tape:\n",
    "    generated_images = generator_model(noise, training=True)"
   ],
   "metadata": {
    "collapsed": false,
    "pycharm": {
     "name": "#%% code\n"
    }
   }
  }
 ],
 "metadata": {
  "kernelspec": {
   "display_name": "Python 3",
   "language": "python",
   "name": "python3"
  },
  "language_info": {
   "codemirror_mode": {
    "name": "ipython",
    "version": 3
   },
   "file_extension": ".py",
   "mimetype": "text/x-python",
   "name": "python",
   "nbconvert_exporter": "python",
   "pygments_lexer": "ipython3",
   "version": "3.8.8"
  }
 },
 "nbformat": 4,
 "nbformat_minor": 5
}